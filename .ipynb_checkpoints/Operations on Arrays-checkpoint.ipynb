{
 "cells": [
  {
   "cell_type": "code",
   "execution_count": 2,
   "id": "9d8acd98-60b5-4a49-9cd0-fc2f92fa1a51",
   "metadata": {},
   "outputs": [],
   "source": [
    "import numpy as np"
   ]
  },
  {
   "cell_type": "markdown",
   "id": "44e28617-63e1-405f-9903-b474be243d97",
   "metadata": {},
   "source": [
    "# sample arrays"
   ]
  },
  {
   "cell_type": "code",
   "execution_count": 3,
   "id": "4bb20f25-4773-4e95-93ef-3d1fd5a0d084",
   "metadata": {},
   "outputs": [],
   "source": [
    "r_1 = np.random.randint(1, 11, size=(4, 5))\n"
   ]
  },
  {
   "cell_type": "code",
   "execution_count": 4,
   "id": "c0d6421f-7533-46ed-9043-fb7b6d32e4ab",
   "metadata": {},
   "outputs": [],
   "source": [
    "r_2 = np.random.normal(loc=0, scale=1, size=(3, 3))"
   ]
  },
  {
   "cell_type": "code",
   "execution_count": 5,
   "id": "dfe6c16b-9982-43f7-b291-72b3d8328f46",
   "metadata": {},
   "outputs": [],
   "source": [
    "r_3 = np.random.random(size=(2, 6))"
   ]
  },
  {
   "cell_type": "code",
   "execution_count": 6,
   "id": "6ef0cb48-1b6f-45b7-98fc-b6feb0763e2e",
   "metadata": {},
   "outputs": [],
   "source": [
    "r_4 = np.random.uniform(low=0, high=10, size=(5, 4))"
   ]
  },
  {
   "cell_type": "code",
   "execution_count": 7,
   "id": "414bdb78-cdce-4f20-97e8-baf6ae0baf43",
   "metadata": {},
   "outputs": [],
   "source": [
    "r_5 = np.random.binomial(n=10, p=0.5, size=(3, 2))"
   ]
  },
  {
   "cell_type": "code",
   "execution_count": 8,
   "id": "62c2d2bf-f53a-4372-8c5e-dedcb4348467",
   "metadata": {},
   "outputs": [
    {
     "name": "stdout",
     "output_type": "stream",
     "text": [
      "r_1: [[3 1 7 8 5]\n",
      " [3 1 4 5 8]\n",
      " [4 7 3 3 6]\n",
      " [6 9 9 2 4]]\n",
      "r_2: [[-0.29856354  0.71364368  0.79632551]\n",
      " [ 1.29325843  0.21666446  0.29393819]\n",
      " [ 2.3686884  -1.94519145 -1.01000478]]\n",
      "r_3: [[0.19784704 0.36738808 0.59294139 0.19956129 0.9982958  0.81478467]\n",
      " [0.65829726 0.68672454 0.61768084 0.25050554 0.6028732  0.25563354]]\n",
      "r_4: [[7.5308088  6.3066419  1.81072429 6.84808317]\n",
      " [9.58390184 8.56693221 7.2291879  6.60679256]\n",
      " [9.60485045 5.46636315 3.95478178 2.44444655]\n",
      " [9.37036336 6.6244036  7.75911677 6.06367921]\n",
      " [5.57397154 9.20265102 9.66907787 5.23181693]]\n",
      "r_5: [[8 5]\n",
      " [3 5]\n",
      " [5 4]]\n"
     ]
    }
   ],
   "source": [
    "print(\"r_1:\", r_1)\n",
    "print(\"r_2:\", r_2)\n",
    "print(\"r_3:\", r_3)\n",
    "print(\"r_4:\", r_4)\n",
    "print(\"r_5:\", r_5)"
   ]
  },
  {
   "cell_type": "markdown",
   "id": "7c116b39-58bf-48b8-902b-80eab6566a45",
   "metadata": {},
   "source": [
    "# Permutations"
   ]
  },
  {
   "cell_type": "code",
   "execution_count": 9,
   "id": "397805a2-0ec0-4eda-ac95-15427d9be8bb",
   "metadata": {},
   "outputs": [
    {
     "name": "stdout",
     "output_type": "stream",
     "text": [
      "[[0.51991753 3.46485587 6.85757905 8.78770853]\n",
      " [5.39255336 2.80320699 0.95980336 0.29006055]\n",
      " [3.83968554 2.12457162 1.19496463 3.50100199]\n",
      " [4.45884582 5.35034841 5.26741656 1.64445978]\n",
      " [4.7977785  3.55191459 2.53562841 6.66217742]]\n"
     ]
    }
   ],
   "source": [
    "r_4 = np.random.uniform(low=0, high=10, size=(5, 4))\n",
    "print(r_4)"
   ]
  },
  {
   "cell_type": "code",
   "execution_count": 11,
   "id": "f1d4b806-bcc5-4c2a-bbfc-a4a11e33c4d4",
   "metadata": {},
   "outputs": [
    {
     "name": "stdout",
     "output_type": "stream",
     "text": [
      "[[4.45884582 5.35034841 5.26741656 1.64445978]\n",
      " [3.83968554 2.12457162 1.19496463 3.50100199]\n",
      " [5.39255336 2.80320699 0.95980336 0.29006055]\n",
      " [0.51991753 3.46485587 6.85757905 8.78770853]\n",
      " [4.7977785  3.55191459 2.53562841 6.66217742]]\n"
     ]
    }
   ],
   "source": [
    "np.random.shuffle(r_4)\n",
    "print(r_4)"
   ]
  },
  {
   "cell_type": "code",
   "execution_count": 12,
   "id": "f0fee119-01d7-4867-aead-97ccb75fcf55",
   "metadata": {},
   "outputs": [
    {
     "name": "stdout",
     "output_type": "stream",
     "text": [
      "[[3.83968554 2.12457162 1.19496463 3.50100199]\n",
      " [4.45884582 5.35034841 5.26741656 1.64445978]\n",
      " [4.7977785  3.55191459 2.53562841 6.66217742]\n",
      " [5.39255336 2.80320699 0.95980336 0.29006055]\n",
      " [0.51991753 3.46485587 6.85757905 8.78770853]]\n"
     ]
    }
   ],
   "source": [
    "new_shuffle = np.random.permutation(r_4)\n",
    "print(new_shuffle)"
   ]
  },
  {
   "cell_type": "code",
   "execution_count": 13,
   "id": "7253178e-1a3f-4248-ab56-64c515e5296f",
   "metadata": {},
   "outputs": [
    {
     "name": "stdout",
     "output_type": "stream",
     "text": [
      "[[4.45884582 5.35034841 5.26741656 1.64445978]\n",
      " [3.83968554 2.12457162 1.19496463 3.50100199]\n",
      " [5.39255336 2.80320699 0.95980336 0.29006055]\n",
      " [0.51991753 3.46485587 6.85757905 8.78770853]\n",
      " [4.7977785  3.55191459 2.53562841 6.66217742]]\n"
     ]
    }
   ],
   "source": [
    "print(r_4)"
   ]
  },
  {
   "cell_type": "markdown",
   "id": "f97b4b57-115b-42f1-b7dc-b0401f1ddc62",
   "metadata": {},
   "source": [
    "# Mathematical Operations"
   ]
  },
  {
   "cell_type": "code",
   "execution_count": 15,
   "id": "8c47725d-9a4c-4d90-b929-a81f11602b99",
   "metadata": {},
   "outputs": [
    {
     "name": "stdout",
     "output_type": "stream",
     "text": [
      "[[3 1 7 8 5]\n",
      " [3 1 4 5 8]\n",
      " [4 7 3 3 6]\n",
      " [6 9 9 2 4]]\n",
      "(4, 5)\n"
     ]
    }
   ],
   "source": [
    "print(r_1)\n",
    "print(r_1.shape)"
   ]
  },
  {
   "cell_type": "code",
   "execution_count": 16,
   "id": "ecfe3b7c-ae11-4f3f-909c-e214ce1c1b0f",
   "metadata": {},
   "outputs": [
    {
     "name": "stdout",
     "output_type": "stream",
     "text": [
      "[[-0.29856354  0.71364368  0.79632551]\n",
      " [ 1.29325843  0.21666446  0.29393819]\n",
      " [ 2.3686884  -1.94519145 -1.01000478]]\n",
      "(3, 3)\n"
     ]
    }
   ],
   "source": [
    "print(r_2)\n",
    "print(r_2.shape)"
   ]
  },
  {
   "cell_type": "code",
   "execution_count": 18,
   "id": "69f60ec6-61de-4b1f-8310-c8f52168fe20",
   "metadata": {},
   "outputs": [
    {
     "ename": "ValueError",
     "evalue": "operands could not be broadcast together with shapes (4,5) (3,3) ",
     "output_type": "error",
     "traceback": [
      "\u001b[1;31m---------------------------------------------------------------------------\u001b[0m",
      "\u001b[1;31mValueError\u001b[0m                                Traceback (most recent call last)",
      "Cell \u001b[1;32mIn[18], line 1\u001b[0m\n\u001b[1;32m----> 1\u001b[0m result\u001b[38;5;241m=\u001b[39m \u001b[43mnp\u001b[49m\u001b[38;5;241;43m.\u001b[39;49m\u001b[43madd\u001b[49m\u001b[43m(\u001b[49m\u001b[43mr_1\u001b[49m\u001b[43m,\u001b[49m\u001b[43m \u001b[49m\u001b[43mr_2\u001b[49m\u001b[43m)\u001b[49m\n\u001b[0;32m      2\u001b[0m \u001b[38;5;28mprint\u001b[39m(result)\n",
      "\u001b[1;31mValueError\u001b[0m: operands could not be broadcast together with shapes (4,5) (3,3) "
     ]
    }
   ],
   "source": [
    "result= np.add(r_1, r_2)\n",
    "\n",
    "print(result)"
   ]
  },
  {
   "cell_type": "code",
   "execution_count": 21,
   "id": "0429cea1-f973-4bf9-9522-d27e4080ed62",
   "metadata": {},
   "outputs": [
    {
     "name": "stdout",
     "output_type": "stream",
     "text": [
      "[7 8]\n"
     ]
    }
   ],
   "source": [
    "shape_result= np.add(r_1.shape, r_2.shape)\n",
    "print(shape_result)"
   ]
  },
  {
   "cell_type": "code",
   "execution_count": 22,
   "id": "1941e1b9-ec52-46db-9a18-aa56f5fd4c77",
   "metadata": {},
   "outputs": [
    {
     "name": "stdout",
     "output_type": "stream",
     "text": [
      "[[3 1 7 8 5]\n",
      " [3 1 4 5 8]\n",
      " [4 7 3 3 6]\n",
      " [6 9 9 2 4]]\n",
      "(4, 5)\n"
     ]
    }
   ],
   "source": [
    "print(r_1)\n",
    "print(r_1.shape)"
   ]
  },
  {
   "cell_type": "code",
   "execution_count": 23,
   "id": "e3543055-3d25-4208-96f7-c310833f7faf",
   "metadata": {},
   "outputs": [
    {
     "name": "stdout",
     "output_type": "stream",
     "text": [
      "[[0.19784704 0.36738808 0.59294139 0.19956129 0.9982958  0.81478467]\n",
      " [0.65829726 0.68672454 0.61768084 0.25050554 0.6028732  0.25563354]]\n",
      "(2, 6)\n"
     ]
    }
   ],
   "source": [
    "print(r_3)\n",
    "print(r_3.shape)"
   ]
  },
  {
   "cell_type": "code",
   "execution_count": 25,
   "id": "413364ad-01b0-4b5b-8ad8-583adf7f9d1f",
   "metadata": {},
   "outputs": [
    {
     "ename": "ValueError",
     "evalue": "operands could not be broadcast together with shapes (4,5) (2,6) ",
     "output_type": "error",
     "traceback": [
      "\u001b[1;31m---------------------------------------------------------------------------\u001b[0m",
      "\u001b[1;31mValueError\u001b[0m                                Traceback (most recent call last)",
      "Cell \u001b[1;32mIn[25], line 1\u001b[0m\n\u001b[1;32m----> 1\u001b[0m result13\u001b[38;5;241m=\u001b[39m \u001b[43mnp\u001b[49m\u001b[38;5;241;43m.\u001b[39;49m\u001b[43madd\u001b[49m\u001b[43m(\u001b[49m\u001b[43mr_1\u001b[49m\u001b[43m,\u001b[49m\u001b[43m \u001b[49m\u001b[43mr_3\u001b[49m\u001b[43m)\u001b[49m\n",
      "\u001b[1;31mValueError\u001b[0m: operands could not be broadcast together with shapes (4,5) (2,6) "
     ]
    }
   ],
   "source": [
    "result13= np.add(r_1, r_3)\n",
    "print(result13)\n"
   ]
  },
  {
   "cell_type": "code",
   "execution_count": 28,
   "id": "a2cf1ad5-1081-4bc0-82ad-358bd5179541",
   "metadata": {},
   "outputs": [
    {
     "name": "stdout",
     "output_type": "stream",
     "text": [
      "[ 6 11]\n"
     ]
    }
   ],
   "source": [
    "shape_result13= np.add(r_1.shape, r_3.shape)\n",
    "print(shape_result13)"
   ]
  },
  {
   "cell_type": "code",
   "execution_count": 29,
   "id": "48184127-e4b1-47a8-8684-d1f9b4951bc9",
   "metadata": {},
   "outputs": [
    {
     "ename": "ValueError",
     "evalue": "operands could not be broadcast together with shapes (3,3) (5,4) ",
     "output_type": "error",
     "traceback": [
      "\u001b[1;31m---------------------------------------------------------------------------\u001b[0m",
      "\u001b[1;31mValueError\u001b[0m                                Traceback (most recent call last)",
      "Cell \u001b[1;32mIn[29], line 1\u001b[0m\n\u001b[1;32m----> 1\u001b[0m result24\u001b[38;5;241m=\u001b[39m \u001b[43mnp\u001b[49m\u001b[38;5;241;43m.\u001b[39;49m\u001b[43madd\u001b[49m\u001b[43m(\u001b[49m\u001b[43mr_2\u001b[49m\u001b[43m,\u001b[49m\u001b[43m \u001b[49m\u001b[43mr_4\u001b[49m\u001b[43m)\u001b[49m\n\u001b[0;32m      2\u001b[0m \u001b[38;5;28mprint\u001b[39m(result24)\n",
      "\u001b[1;31mValueError\u001b[0m: operands could not be broadcast together with shapes (3,3) (5,4) "
     ]
    }
   ],
   "source": [
    "result24= np.add(r_2, r_4)\n",
    "print(result24)"
   ]
  },
  {
   "cell_type": "code",
   "execution_count": 30,
   "id": "81fcd401-1944-4c87-af61-ebb216fac5db",
   "metadata": {},
   "outputs": [
    {
     "name": "stdout",
     "output_type": "stream",
     "text": [
      "[8 7]\n"
     ]
    }
   ],
   "source": [
    "shape_result24= np.add(r_2.shape, r_4.shape)\n",
    "print(shape_result24)"
   ]
  },
  {
   "cell_type": "code",
   "execution_count": 31,
   "id": "220fb700-9676-40e3-a2da-e409cb845fcb",
   "metadata": {},
   "outputs": [
    {
     "ename": "IndentationError",
     "evalue": "unexpected indent (3380548334.py, line 2)",
     "output_type": "error",
     "traceback": [
      "\u001b[1;36m  Cell \u001b[1;32mIn[31], line 2\u001b[1;36m\u001b[0m\n\u001b[1;33m    print(result_r1_r4)\u001b[0m\n\u001b[1;37m    ^\u001b[0m\n\u001b[1;31mIndentationError\u001b[0m\u001b[1;31m:\u001b[0m unexpected indent\n"
     ]
    }
   ],
   "source": [
    "result_r1_r4 = np.add(r_1, r_4)\n",
    "    print(result_r1_r4)"
   ]
  },
  {
   "cell_type": "code",
   "execution_count": 32,
   "id": "c1f7da87-3289-4d91-95a3-2f19f09642f6",
   "metadata": {},
   "outputs": [
    {
     "ename": "IndentationError",
     "evalue": "unexpected indent (2049989532.py, line 2)",
     "output_type": "error",
     "traceback": [
      "\u001b[1;36m  Cell \u001b[1;32mIn[32], line 2\u001b[1;36m\u001b[0m\n\u001b[1;33m    print(result_r3_r4)\u001b[0m\n\u001b[1;37m    ^\u001b[0m\n\u001b[1;31mIndentationError\u001b[0m\u001b[1;31m:\u001b[0m unexpected indent\n"
     ]
    }
   ],
   "source": [
    "result_r3_r4 = np.add(r_3, r_4)\n",
    "    print(result_r3_r4)"
   ]
  },
  {
   "cell_type": "code",
   "execution_count": 33,
   "id": "dbb49694-9946-4dd4-8ffb-07f075b02fd2",
   "metadata": {},
   "outputs": [
    {
     "name": "stdout",
     "output_type": "stream",
     "text": [
      "[[5.45884582 6.35034841 6.26741656 2.64445978]\n",
      " [4.83968554 3.12457162 2.19496463 4.50100199]\n",
      " [6.39255336 3.80320699 1.95980336 1.29006055]\n",
      " [1.51991753 4.46485587 7.85757905 9.78770853]\n",
      " [5.7977785  4.55191459 3.53562841 7.66217742]]\n"
     ]
    }
   ],
   "source": [
    "result_single_element = np.add(r_4, np.array([1]))\n",
    "print(result_single_element)"
   ]
  },
  {
   "cell_type": "code",
   "execution_count": 34,
   "id": "a2feed80-bb53-40ca-8b7f-f788f8d5410d",
   "metadata": {},
   "outputs": [
    {
     "name": "stdout",
     "output_type": "stream",
     "text": [
      "[[5.45884582 6.35034841 6.26741656 2.64445978]\n",
      " [4.83968554 3.12457162 2.19496463 4.50100199]\n",
      " [6.39255336 3.80320699 1.95980336 1.29006055]\n",
      " [1.51991753 4.46485587 7.85757905 9.78770853]\n",
      " [5.7977785  4.55191459 3.53562841 7.66217742]]\n"
     ]
    }
   ],
   "source": [
    "result_single_element_2d = np.add(r_4, np.array([[1]]))\n",
    "print(result_single_element_2d)"
   ]
  },
  {
   "cell_type": "code",
   "execution_count": 35,
   "id": "ab0c192b-e043-4a72-8d08-a72ea3687b2b",
   "metadata": {},
   "outputs": [
    {
     "ename": "IndentationError",
     "evalue": "unexpected indent (511305885.py, line 2)",
     "output_type": "error",
     "traceback": [
      "\u001b[1;36m  Cell \u001b[1;32mIn[35], line 2\u001b[1;36m\u001b[0m\n\u001b[1;33m    print(result_row_array)\u001b[0m\n\u001b[1;37m    ^\u001b[0m\n\u001b[1;31mIndentationError\u001b[0m\u001b[1;31m:\u001b[0m unexpected indent\n"
     ]
    }
   ],
   "source": [
    "result_row_array = np.add(r_4, np.array([1, 1, 1, 1, 1]))\n",
    "    print(result_row_array)"
   ]
  },
  {
   "cell_type": "code",
   "execution_count": 36,
   "id": "9c404b54-a226-433d-9efe-e4f76d97c10f",
   "metadata": {},
   "outputs": [
    {
     "ename": "IndentationError",
     "evalue": "unexpected indent (2655479930.py, line 2)",
     "output_type": "error",
     "traceback": [
      "\u001b[1;36m  Cell \u001b[1;32mIn[36], line 2\u001b[1;36m\u001b[0m\n\u001b[1;33m    print(result_column_array)\u001b[0m\n\u001b[1;37m    ^\u001b[0m\n\u001b[1;31mIndentationError\u001b[0m\u001b[1;31m:\u001b[0m unexpected indent\n"
     ]
    }
   ],
   "source": [
    "result_column_array = np.add(r_4, np.array([[1], [1]]))\n",
    "    print(result_column_array)"
   ]
  },
  {
   "cell_type": "markdown",
   "id": "442bedeb-74fd-440b-9918-325c9724ccae",
   "metadata": {},
   "source": [
    "# Rounding"
   ]
  },
  {
   "cell_type": "code",
   "execution_count": 37,
   "id": "d626b94a-dd32-400c-ac55-c30c141cd26b",
   "metadata": {},
   "outputs": [
    {
     "name": "stdout",
     "output_type": "stream",
     "text": [
      "[[9.37796776 5.5951966  9.93442501 2.21398176 6.13471444 9.13423343]\n",
      " [7.80733223 9.52935193 8.63219941 9.46061112 5.48193396 8.52305426]]\n"
     ]
    }
   ],
   "source": [
    "r_3 = np.random.random(size=(2, 6)) * 10 \n",
    "print(r_3)"
   ]
  },
  {
   "cell_type": "code",
   "execution_count": 38,
   "id": "c5b99cb7-a72f-466b-accf-440b605137d9",
   "metadata": {},
   "outputs": [
    {
     "name": "stdout",
     "output_type": "stream",
     "text": [
      "[[9. 5. 9. 2. 6. 9.]\n",
      " [7. 9. 8. 9. 5. 8.]]\n"
     ]
    }
   ],
   "source": [
    "trunc_r3 = np.trunc(r_3)\n",
    "print(trunc_r3)"
   ]
  },
  {
   "cell_type": "code",
   "execution_count": 39,
   "id": "85b6ed82-e8aa-4dfd-bf49-728492027031",
   "metadata": {},
   "outputs": [
    {
     "name": "stdout",
     "output_type": "stream",
     "text": [
      "[[9. 5. 9. 2. 6. 9.]\n",
      " [7. 9. 8. 9. 5. 8.]]\n"
     ]
    }
   ],
   "source": [
    "fix_r3 = np.fix(r_3)\n",
    "print(fix_r3)"
   ]
  },
  {
   "cell_type": "code",
   "execution_count": 40,
   "id": "272c2ecf-dae8-4e3f-b95b-6ae5503a8d08",
   "metadata": {},
   "outputs": [
    {
     "name": "stdout",
     "output_type": "stream",
     "text": [
      "[[9. 5. 9. 2. 6. 9.]\n",
      " [7. 9. 8. 9. 5. 8.]]\n"
     ]
    }
   ],
   "source": [
    "floor_r3 = np.floor(r_3)\n",
    "print(floor_r3)"
   ]
  },
  {
   "cell_type": "code",
   "execution_count": 42,
   "id": "1fb6b05c-d364-421e-9ceb-54640b4400a9",
   "metadata": {},
   "outputs": [
    {
     "name": "stdout",
     "output_type": "stream",
     "text": [
      "[[10.  6. 10.  3.  7. 10.]\n",
      " [ 8. 10.  9. 10.  6.  9.]]\n"
     ]
    }
   ],
   "source": [
    "ceil_r3 = np.ceil(r_3)\n",
    "print(ceil_r3)"
   ]
  },
  {
   "cell_type": "code",
   "execution_count": 43,
   "id": "599c36c1-e555-4101-8eb6-6e11e63d4aac",
   "metadata": {},
   "outputs": [
    {
     "name": "stdout",
     "output_type": "stream",
     "text": [
      "[[9.38 5.6  9.93 2.21 6.13 9.13]\n",
      " [7.81 9.53 8.63 9.46 5.48 8.52]]\n"
     ]
    }
   ],
   "source": [
    "round_r3 = np.round(r_3, 2)\n",
    "print(round_r3)"
   ]
  },
  {
   "cell_type": "markdown",
   "id": "13b0704d-7f55-4578-81a5-63b0aeb7681a",
   "metadata": {},
   "source": [
    "# Cumulative Operations"
   ]
  },
  {
   "cell_type": "code",
   "execution_count": 44,
   "id": "5b0dea34-f31b-4298-a4b5-a33289572dbb",
   "metadata": {},
   "outputs": [
    {
     "name": "stdout",
     "output_type": "stream",
     "text": [
      "Original r_4 values:\n",
      "[[0.05839975 5.76346185 7.6248401  0.19295358]\n",
      " [4.28353264 7.9276207  4.49306007 8.02637356]\n",
      " [2.74485221 6.49164081 8.83685993 4.17210915]\n",
      " [8.36440985 0.77759455 6.15120463 6.45471388]\n",
      " [8.58905941 8.56976831 5.98983982 8.14395095]]\n"
     ]
    }
   ],
   "source": [
    "r_4 = np.random.uniform(0, 10, size=(5, 4))  \n",
    "print(r_4)\n"
   ]
  },
  {
   "cell_type": "code",
   "execution_count": 45,
   "id": "d5b5cda6-8f16-4894-99af-e1e73008ecba",
   "metadata": {},
   "outputs": [
    {
     "name": "stdout",
     "output_type": "stream",
     "text": [
      "113.65624574902024\n"
     ]
    }
   ],
   "source": [
    "total_sum_r4 = np.sum(r_4)\n",
    "print(total_sum_r4)"
   ]
  },
  {
   "cell_type": "code",
   "execution_count": 46,
   "id": "b18d9749-4cb6-4986-819c-9be9537819c3",
   "metadata": {},
   "outputs": [
    {
     "name": "stdout",
     "output_type": "stream",
     "text": [
      "[24.04025385 29.53008621 33.09580456 26.99010112]\n"
     ]
    }
   ],
   "source": [
    "sum_along_axis_0 = np.sum(r_4, axis=0)\n",
    "print(sum_along_axis_0)"
   ]
  },
  {
   "cell_type": "code",
   "execution_count": 47,
   "id": "2001dabf-d039-4cee-8689-4a6e7e112c95",
   "metadata": {},
   "outputs": [
    {
     "name": "stdout",
     "output_type": "stream",
     "text": [
      "[13.63965527 24.73058697 22.2454621  21.74792291 31.29261849]\n"
     ]
    }
   ],
   "source": [
    "sum_along_axis_1 = np.sum(r_4, axis=1)\n",
    "print(sum_along_axis_1)"
   ]
  },
  {
   "cell_type": "code",
   "execution_count": 48,
   "id": "ed9d645e-2a13-40f2-8af6-87aec335a249",
   "metadata": {},
   "outputs": [
    {
     "name": "stdout",
     "output_type": "stream",
     "text": [
      "[5.83997473e-02 5.82186159e+00 1.34467017e+01 1.36396553e+01\n",
      " 1.79231879e+01 2.58508086e+01 3.03438687e+01 3.83702422e+01\n",
      " 4.11150945e+01 4.76067353e+01 5.64435952e+01 6.06157043e+01\n",
      " 6.89801142e+01 6.97577087e+01 7.59089134e+01 8.23636273e+01\n",
      " 9.09526867e+01 9.95224550e+01 1.05512295e+02 1.13656246e+02]\n"
     ]
    }
   ],
   "source": [
    "cumulative_sum_r4 = np.cumsum(r_4)\n",
    "print(cumulative_sum_r4)"
   ]
  },
  {
   "cell_type": "code",
   "execution_count": 49,
   "id": "886a96aa-69af-46b6-873a-262a6c8cdfa5",
   "metadata": {},
   "outputs": [
    {
     "name": "stdout",
     "output_type": "stream",
     "text": [
      "[[ 0.05839975  5.76346185  7.6248401   0.19295358]\n",
      " [ 4.34193239 13.69108254 12.11790017  8.21932714]\n",
      " [ 7.0867846  20.18272335 20.95476011 12.39143629]\n",
      " [15.45119445 20.9603179  27.10596474 18.84615017]\n",
      " [24.04025385 29.53008621 33.09580456 26.99010112]]\n"
     ]
    }
   ],
   "source": [
    "cumulative_sum_along_axis_0 = np.cumsum(r_4, axis=0)\n",
    "print(cumulative_sum_along_axis_0)"
   ]
  },
  {
   "cell_type": "markdown",
   "id": "23056520-f531-4fca-b2d3-4ff7063fd212",
   "metadata": {},
   "source": [
    "# Grocery Problem"
   ]
  },
  {
   "cell_type": "code",
   "execution_count": 50,
   "id": "417dd964-32b1-454d-94b9-2bb5dbe19bab",
   "metadata": {},
   "outputs": [
    {
     "name": "stdout",
     "output_type": "stream",
     "text": [
      "Contents of bag1: [2 3 4 0]\n",
      "Contents of bag2: [4 0 1 2]\n"
     ]
    }
   ],
   "source": [
    "bag1 = np.array([2, 3, 4, 0])\n",
    "bag2 = np.array([4, 0, 1, 2])\n",
    "print(\"Contents of bag1:\", bag1)\n",
    "print(\"Contents of bag2:\", bag2)"
   ]
  },
  {
   "cell_type": "code",
   "execution_count": 51,
   "id": "c6136c70-e311-406f-ba8f-ad088a19a4f1",
   "metadata": {},
   "outputs": [],
   "source": [
    "total_bag1 = np.sum(bag1)\n",
    "total_bag2 = np.sum(bag2)"
   ]
  },
  {
   "cell_type": "code",
   "execution_count": 52,
   "id": "1e4caa7e-83f4-433f-9fd8-ffe1ce8b49e0",
   "metadata": {},
   "outputs": [
    {
     "name": "stdout",
     "output_type": "stream",
     "text": [
      "\n",
      "The first bag contains 9 items, and the second bag contains 7 items.\n"
     ]
    }
   ],
   "source": [
    "print(f\"\\nThe first bag contains {total_bag1} items, and the second bag contains {total_bag2} items.\")"
   ]
  },
  {
   "cell_type": "code",
   "execution_count": 53,
   "id": "84afbd22-0ca2-4649-b555-ca6f05fbab2f",
   "metadata": {},
   "outputs": [
    {
     "name": "stdout",
     "output_type": "stream",
     "text": [
      "There are 6 vegetables, 3 fruits, 5 boxes of snacks, and 2 beverages in the two grocery bags.\n"
     ]
    }
   ],
   "source": [
    "total_items_per_category = bag1 + bag2\n",
    "total_vegetables, total_fruits, total_snacks, total_beverages = total_items_per_category\n",
    "print(f\"There are {total_vegetables} vegetables, {total_fruits} fruits, {total_snacks} boxes of snacks, and {total_beverages} beverages in the two grocery bags.\")"
   ]
  },
  {
   "cell_type": "markdown",
   "id": "3c403913-2f2c-4dc4-916a-91f52b740241",
   "metadata": {},
   "source": [
    "# Teamwork"
   ]
  },
  {
   "cell_type": "code",
   "execution_count": 54,
   "id": "77a63f09-d71f-4fba-bb04-3e503785d400",
   "metadata": {},
   "outputs": [
    {
     "name": "stdout",
     "output_type": "stream",
     "text": [
      "Ali's knocks: [5 4 6 4 2]\n"
     ]
    }
   ],
   "source": [
    "ali_knocks = np.array([5, 4, 6, 4, 2])\n",
    "print(\"Ali's knocks:\", ali_knocks)"
   ]
  },
  {
   "cell_type": "code",
   "execution_count": 55,
   "id": "a84964a5-7fee-42d0-a131-6b8910770a26",
   "metadata": {},
   "outputs": [
    {
     "name": "stdout",
     "output_type": "stream",
     "text": [
      "Ben's knocks: [0 5 5 3 4]\n"
     ]
    }
   ],
   "source": [
    "ben_knocks = np.array([0, 5, 5, 3, 4])\n",
    "print(\"Ben's knocks:\", ben_knocks)"
   ]
  },
  {
   "cell_type": "code",
   "execution_count": 56,
   "id": "0de6076c-7449-47ca-8371-6daf486b39e1",
   "metadata": {},
   "outputs": [
    {
     "name": "stdout",
     "output_type": "stream",
     "text": [
      "Carla's knocks: [3 6 0 3 4]\n"
     ]
    }
   ],
   "source": [
    "carla_knocks = np.array([3, 6, 0, 3, 4])\n",
    "print(\"Carla's knocks:\", carla_knocks)"
   ]
  },
  {
   "cell_type": "code",
   "execution_count": 57,
   "id": "f0c00abe-45f5-4e5d-acf2-782734c6121d",
   "metadata": {},
   "outputs": [
    {
     "name": "stdout",
     "output_type": "stream",
     "text": [
      "\n",
      "All door-knocks for the week:\n",
      " [[5 4 6 4 2]\n",
      " [0 5 5 3 4]\n",
      " [3 6 0 3 4]]\n"
     ]
    }
   ],
   "source": [
    "all_knocks = np.array([ali_knocks, ben_knocks, carla_knocks])\n",
    "print(\"\\nAll door-knocks for the week:\\n\", all_knocks)"
   ]
  },
  {
   "cell_type": "code",
   "execution_count": 58,
   "id": "00556964-2341-45cd-9cdc-6ef46024ba0e",
   "metadata": {},
   "outputs": [],
   "source": [
    "total_knocks_ali = np.sum(ali_knocks)\n",
    "total_knocks_ben = np.sum(ben_knocks)\n",
    "total_knocks_carla = np.sum(carla_knocks)"
   ]
  },
  {
   "cell_type": "code",
   "execution_count": 59,
   "id": "36d76887-1e33-4960-b569-c4ee04c6dc41",
   "metadata": {},
   "outputs": [
    {
     "name": "stdout",
     "output_type": "stream",
     "text": [
      "\n",
      "Total knocks by Ali: 21\n",
      "Total knocks by Ben: 17\n",
      "Total knocks by Carla: 16\n"
     ]
    }
   ],
   "source": [
    "print(f\"\\nTotal knocks by Ali: {total_knocks_ali}\")\n",
    "print(f\"Total knocks by Ben: {total_knocks_ben}\")\n",
    "print(f\"Total knocks by Carla: {total_knocks_carla}\")"
   ]
  },
  {
   "cell_type": "code",
   "execution_count": 60,
   "id": "79613616-f4ba-4a52-b0ac-1251b6f879b7",
   "metadata": {},
   "outputs": [
    {
     "name": "stdout",
     "output_type": "stream",
     "text": [
      "\n",
      "Total knocks by the group: 54\n"
     ]
    }
   ],
   "source": [
    "total_knocks_group = np.sum(all_knocks)\n",
    "print(f\"\\nTotal knocks by the group: {total_knocks_group}\")"
   ]
  },
  {
   "cell_type": "code",
   "execution_count": 61,
   "id": "486c629d-4366-47be-a037-1e6321de6aef",
   "metadata": {},
   "outputs": [
    {
     "name": "stdout",
     "output_type": "stream",
     "text": [
      "\n",
      "Estimated rolling total of potential voters turned out day by day:\n",
      " [ 4.  11.5 17.  22.  27. ]\n"
     ]
    }
   ],
   "source": [
    "daily_knock_totals = np.sum(all_knocks, axis=0)\n",
    "rolling_total_votes = np.cumsum(daily_knock_totals) * 0.5\n",
    "print(\"\\nEstimated rolling total of potential voters turned out day by day:\\n\", rolling_total_votes)"
   ]
  },
  {
   "cell_type": "code",
   "execution_count": null,
   "id": "04d69770-a659-472d-807c-2e81703ef5a7",
   "metadata": {},
   "outputs": [],
   "source": []
  }
 ],
 "metadata": {
  "kernelspec": {
   "display_name": "Python 3 (ipykernel)",
   "language": "python",
   "name": "python3"
  },
  "language_info": {
   "codemirror_mode": {
    "name": "ipython",
    "version": 3
   },
   "file_extension": ".py",
   "mimetype": "text/x-python",
   "name": "python",
   "nbconvert_exporter": "python",
   "pygments_lexer": "ipython3",
   "version": "3.12.6"
  }
 },
 "nbformat": 4,
 "nbformat_minor": 5
}
