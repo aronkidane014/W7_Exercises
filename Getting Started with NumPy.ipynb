{
 "cells": [
  {
   "cell_type": "code",
   "execution_count": 1,
   "id": "adc69870-84d6-40ea-8b4d-0e97114993db",
   "metadata": {},
   "outputs": [
    {
     "ename": "ModuleNotFoundError",
     "evalue": "No module named 'numpy'",
     "output_type": "error",
     "traceback": [
      "\u001b[1;31m---------------------------------------------------------------------------\u001b[0m",
      "\u001b[1;31mModuleNotFoundError\u001b[0m                       Traceback (most recent call last)",
      "Cell \u001b[1;32mIn[1], line 1\u001b[0m\n\u001b[1;32m----> 1\u001b[0m \u001b[38;5;28;01mimport\u001b[39;00m \u001b[38;5;21;01mnumpy\u001b[39;00m \u001b[38;5;28;01mas\u001b[39;00m \u001b[38;5;21;01mnp\u001b[39;00m\n",
      "\u001b[1;31mModuleNotFoundError\u001b[0m: No module named 'numpy'"
     ]
    }
   ],
   "source": [
    "import numpy as np"
   ]
  },
  {
   "cell_type": "code",
   "execution_count": 2,
   "id": "a2e71bf7-d9c3-4022-91ce-6a0e0c99720e",
   "metadata": {},
   "outputs": [
    {
     "name": "stdout",
     "output_type": "stream",
     "text": [
      "Requirement already satisfied: numpy in c:\\users\\student\\appdata\\local\\programs\\python\\python313\\lib\\site-packages (2.1.3)"
     ]
    },
    {
     "name": "stderr",
     "output_type": "stream",
     "text": [
      "\n",
      "[notice] A new release of pip is available: 24.1.1 -> 24.3.1\n",
      "[notice] To update, run: python.exe -m pip install --upgrade pip\n"
     ]
    },
    {
     "name": "stdout",
     "output_type": "stream",
     "text": [
      "\n"
     ]
    }
   ],
   "source": [
    "!pip install numpy"
   ]
  },
  {
   "cell_type": "code",
   "execution_count": 3,
   "id": "0ca44c67-49e5-48b1-a80f-0230d261f052",
   "metadata": {},
   "outputs": [
    {
     "ename": "ModuleNotFoundError",
     "evalue": "No module named 'numpy'",
     "output_type": "error",
     "traceback": [
      "\u001b[1;31m---------------------------------------------------------------------------\u001b[0m",
      "\u001b[1;31mModuleNotFoundError\u001b[0m                       Traceback (most recent call last)",
      "Cell \u001b[1;32mIn[3], line 1\u001b[0m\n\u001b[1;32m----> 1\u001b[0m \u001b[38;5;28;01mimport\u001b[39;00m \u001b[38;5;21;01mnumpy\u001b[39;00m \u001b[38;5;28;01mas\u001b[39;00m \u001b[38;5;21;01mnp\u001b[39;00m\n",
      "\u001b[1;31mModuleNotFoundError\u001b[0m: No module named 'numpy'"
     ]
    }
   ],
   "source": [
    "import numpy as np"
   ]
  },
  {
   "cell_type": "code",
   "execution_count": 4,
   "id": "b5ddbf62-5e79-4332-b947-80760cc862fc",
   "metadata": {},
   "outputs": [
    {
     "name": "stdout",
     "output_type": "stream",
     "text": [
      "C:\\Users\\Student\\AppData\\Local\\Programs\\Python\\Python312\\python.exe\n"
     ]
    }
   ],
   "source": [
    "import sys\n",
    "print(sys.executable)"
   ]
  },
  {
   "cell_type": "code",
   "execution_count": 5,
   "id": "d2699ec8-f5e0-4a5a-b3be-f2e418508eff",
   "metadata": {},
   "outputs": [
    {
     "name": "stdout",
     "output_type": "stream",
     "text": [
      "Collecting numpy\n",
      "  Downloading numpy-2.1.3-cp312-cp312-win_amd64.whl.metadata (60 kB)\n",
      "Downloading numpy-2.1.3-cp312-cp312-win_amd64.whl (12.6 MB)\n",
      "   ---------------------------------------- 0.0/12.6 MB ? eta -:--:--\n",
      "   ----- ---------------------------------- 1.6/12.6 MB 9.4 MB/s eta 0:00:02\n",
      "   ------------ --------------------------- 3.9/12.6 MB 9.8 MB/s eta 0:00:01\n",
      "   --------------------- ------------------ 6.8/12.6 MB 11.7 MB/s eta 0:00:01\n",
      "   ---------------------------- ----------- 8.9/12.6 MB 11.5 MB/s eta 0:00:01\n",
      "   ----------------------------------- ---- 11.0/12.6 MB 11.1 MB/s eta 0:00:01\n",
      "   ---------------------------------------  12.3/12.6 MB 10.4 MB/s eta 0:00:01\n",
      "   ---------------------------------------- 12.6/12.6 MB 10.0 MB/s eta 0:00:00\n",
      "Installing collected packages: numpy\n",
      "Successfully installed numpy-2.1.3\n"
     ]
    },
    {
     "name": "stderr",
     "output_type": "stream",
     "text": [
      "\n",
      "[notice] A new release of pip is available: 24.2 -> 24.3.1\n",
      "[notice] To update, run: C:\\Users\\Student\\AppData\\Local\\Programs\\Python\\Python312\\python.exe -m pip install --upgrade pip\n"
     ]
    }
   ],
   "source": [
    "!{sys.executable} -m pip install numpy"
   ]
  },
  {
   "cell_type": "code",
   "execution_count": 6,
   "id": "c3f42525-590f-4a2e-8174-515f7aede09d",
   "metadata": {},
   "outputs": [],
   "source": [
    "import numpy as np"
   ]
  },
  {
   "cell_type": "code",
   "execution_count": null,
   "id": "1299e198-029c-4607-aa34-df1b6371affa",
   "metadata": {},
   "outputs": [],
   "source": [
    "# Array Basics"
   ]
  },
  {
   "cell_type": "code",
   "execution_count": 7,
   "id": "e63f9d41-098c-4d1c-ad7b-2f8712664e3a",
   "metadata": {},
   "outputs": [],
   "source": [
    "fruits= ['apples', 'banana', 'cherry', 'date'] "
   ]
  },
  {
   "cell_type": "code",
   "execution_count": 8,
   "id": "5eb5f833-6a86-4e5d-bd31-0d548bc68b16",
   "metadata": {},
   "outputs": [
    {
     "name": "stdout",
     "output_type": "stream",
     "text": [
      "['apples' 'banana' 'cherry' 'date']\n"
     ]
    }
   ],
   "source": [
    "arr_1= np.array(fruits)\n",
    "print(arr_1)"
   ]
  },
  {
   "cell_type": "code",
   "execution_count": 9,
   "id": "b803dcb7-ee45-41c9-a48f-ba8435b4ae16",
   "metadata": {},
   "outputs": [
    {
     "name": "stdout",
     "output_type": "stream",
     "text": [
      "<U6\n"
     ]
    }
   ],
   "source": [
    "print(arr_1.dtype) # this gives <U6 result. '<' is the byte order or size of the data ! I think. 'U' stands for data type Unicode strings \n",
    "#and '6' represnts the number of maximum characters which is banana."
   ]
  },
  {
   "cell_type": "code",
   "execution_count": null,
   "id": "2732dd25-0bb9-4bd3-aa34-016783846922",
   "metadata": {},
   "outputs": [],
   "source": []
  },
  {
   "cell_type": "code",
   "execution_count": 10,
   "id": "3675bb7b-dcda-4f95-af4f-1394d47dab14",
   "metadata": {},
   "outputs": [
    {
     "name": "stdout",
     "output_type": "stream",
     "text": [
      "[[10 11 12]\n",
      " [13 14 15]]\n"
     ]
    }
   ],
   "source": [
    "arr_2 = np.array([[10, 11, 12], [13, 14, 15]])\n",
    "print(arr_2)\n"
   ]
  },
  {
   "cell_type": "code",
   "execution_count": 11,
   "id": "13882b7c-ff3d-4d41-a8b5-8c2ab0810a48",
   "metadata": {},
   "outputs": [
    {
     "name": "stdout",
     "output_type": "stream",
     "text": [
      "[[10 13]\n",
      " [11 14]\n",
      " [12 15]]\n"
     ]
    }
   ],
   "source": [
    "print(arr_2.T)"
   ]
  },
  {
   "cell_type": "code",
   "execution_count": null,
   "id": "8ef1636f-a9d9-43c6-855e-6d52acbf3bd1",
   "metadata": {},
   "outputs": [],
   "source": []
  },
  {
   "cell_type": "code",
   "execution_count": 12,
   "id": "cc95147e-30e5-4f42-8315-661cd64e7d5d",
   "metadata": {},
   "outputs": [
    {
     "name": "stdout",
     "output_type": "stream",
     "text": [
      "[[1 3 5]\n",
      " [2 4 6]]\n"
     ]
    }
   ],
   "source": [
    "arr_3 = np.array([[1, 3, 5], [2, 4, 6]])\n",
    "print(arr_3)\n"
   ]
  },
  {
   "cell_type": "code",
   "execution_count": 13,
   "id": "d6610fbf-a271-4f66-a620-852ae72f76c4",
   "metadata": {},
   "outputs": [
    {
     "name": "stdout",
     "output_type": "stream",
     "text": [
      "[5 4]\n"
     ]
    }
   ],
   "source": [
    "arr_4 = np.array([arr_3[0, 2], arr_3[1, 1]])\n",
    "print(arr_4)\n"
   ]
  },
  {
   "cell_type": "code",
   "execution_count": 14,
   "id": "3374c15e-aaad-4d31-84d1-c36588e1dccb",
   "metadata": {},
   "outputs": [
    {
     "name": "stdout",
     "output_type": "stream",
     "text": [
      "[[[1. 1.]\n",
      "  [1. 1.]]\n",
      "\n",
      " [[1. 1.]\n",
      "  [1. 1.]]]\n"
     ]
    }
   ],
   "source": [
    "arr_5 = np.ones((2, 2, 2))\n",
    "print(arr_5)\n"
   ]
  },
  {
   "cell_type": "code",
   "execution_count": null,
   "id": "9d38d20f-b0ae-43b7-8b26-79f740e6a229",
   "metadata": {},
   "outputs": [],
   "source": []
  }
 ],
 "metadata": {
  "kernelspec": {
   "display_name": "Python 3 (ipykernel)",
   "language": "python",
   "name": "python3"
  },
  "language_info": {
   "codemirror_mode": {
    "name": "ipython",
    "version": 3
   },
   "file_extension": ".py",
   "mimetype": "text/x-python",
   "name": "python",
   "nbconvert_exporter": "python",
   "pygments_lexer": "ipython3",
   "version": "3.12.6"
  }
 },
 "nbformat": 4,
 "nbformat_minor": 5
}
