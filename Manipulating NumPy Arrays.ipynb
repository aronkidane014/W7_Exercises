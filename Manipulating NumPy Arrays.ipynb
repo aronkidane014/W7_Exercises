{
 "cells": [
  {
   "cell_type": "markdown",
   "id": "fd5b048d-534a-4d61-ae42-a5344c27541f",
   "metadata": {},
   "source": [
    "# Looping Through Arrays\n"
   ]
  },
  {
   "cell_type": "code",
   "execution_count": 3,
   "id": "346726b0-a5a3-4251-a400-ba326cfdebfb",
   "metadata": {},
   "outputs": [
    {
     "name": "stdout",
     "output_type": "stream",
     "text": [
      "[[11 12 13]\n",
      " [14 15 16]]\n"
     ]
    }
   ],
   "source": [
    "import numpy as np\n",
    "arrA = np.array([[11, 12, 13] , [14, 15, 16]])\n",
    "print (arrA)"
   ]
  },
  {
   "cell_type": "code",
   "execution_count": 8,
   "id": "f88acf62-a8f7-4819-9689-2d37c8b7f812",
   "metadata": {},
   "outputs": [
    {
     "name": "stdout",
     "output_type": "stream",
     "text": [
      "[22 24 26]\n",
      "[28 30 32]\n"
     ]
    }
   ],
   "source": [
    "for x in arrA:\n",
    " print(x * 2)"
   ]
  },
  {
   "cell_type": "code",
   "execution_count": 14,
   "id": "3e192dfe-cb0c-469f-aac4-3fa908a26c0f",
   "metadata": {},
   "outputs": [
    {
     "name": "stdout",
     "output_type": "stream",
     "text": [
      "22\n",
      "24\n",
      "26\n",
      "28\n",
      "30\n",
      "32\n"
     ]
    }
   ],
   "source": [
    "for x in arrA:\n",
    " for y in x:\n",
    "     print(y * 2)"
   ]
  },
  {
   "cell_type": "markdown",
   "id": "30387f91-a19c-47ab-9708-b4013b4b4855",
   "metadata": {},
   "source": [
    "The first loop (for x in arrA) multiplies each row as a whole array by 2, displaying each row’s values doubled as arrays. The second loop (for y in x) accesses each individual element within the rows, printing each doubled value on a separate line."
   ]
  },
  {
   "cell_type": "code",
   "execution_count": 16,
   "id": "4d942da2-8e2d-47a6-bd58-1c9f91f47874",
   "metadata": {},
   "outputs": [
    {
     "name": "stdout",
     "output_type": "stream",
     "text": [
      "[22 24 26]\n",
      "[28 30 32]\n"
     ]
    }
   ],
   "source": [
    "# Loop through the second dimension of arrA, assign each element multiplied by 2 to loop_result, and print it\n",
    "for x in arrA:\n",
    "    loop_result= x* 2\n",
    "    print(loop_result) # This prints each row with all elements multiplied by 2"
   ]
  },
  {
   "cell_type": "markdown",
   "id": "f4be38b4-da55-4a35-9dfe-17bbbfad458b",
   "metadata": {},
   "source": [
    "### Joining and Stacking Arrays"
   ]
  },
  {
   "cell_type": "code",
   "execution_count": 22,
   "id": "c69c0d68-fc31-47f3-ac70-eada22b1a73d",
   "metadata": {},
   "outputs": [
    {
     "name": "stdout",
     "output_type": "stream",
     "text": [
      "[[11 12 13]\n",
      " [14 15 16]\n",
      " [11 12 13]\n",
      " [14 15 16]]\n"
     ]
    }
   ],
   "source": [
    "arrA = np.array([[11, 12, 13] , [14, 15, 16]])\n",
    "joined_array_1 = np.concatenate((arrA, arrA), axis=0)\n",
    "print(joined_array_1)"
   ]
  },
  {
   "cell_type": "code",
   "execution_count": 23,
   "id": "84bdd548-8a73-4a43-afc6-8136fc070be2",
   "metadata": {},
   "outputs": [
    {
     "name": "stdout",
     "output_type": "stream",
     "text": [
      "[[11 12 13 11 12 13]\n",
      " [14 15 16 14 15 16]]\n"
     ]
    }
   ],
   "source": [
    "arrA = np.array([[11, 12, 13] , [14, 15, 16]])\n",
    "joined_array_2 = np.concatenate((arrA, arrA), axis=1)\n",
    "print(joined_array_2)"
   ]
  },
  {
   "cell_type": "code",
   "execution_count": 24,
   "id": "a68921ac-212d-46ed-acb3-bbb532f58210",
   "metadata": {},
   "outputs": [
    {
     "name": "stdout",
     "output_type": "stream",
     "text": [
      "[[[11 12 13]\n",
      "  [14 15 16]\n",
      "  [11 12 13]\n",
      "  [14 15 16]]\n",
      "\n",
      " [[11 12 13]\n",
      "  [14 15 16]\n",
      "  [11 12 13]\n",
      "  [14 15 16]]]\n"
     ]
    }
   ],
   "source": [
    "stacked_array_1 = np.stack((joined_array_1, joined_array_1))\n",
    "print(stacked_array_1)"
   ]
  },
  {
   "cell_type": "code",
   "execution_count": 26,
   "id": "158ae292-8633-4f08-9c25-a5d9b597dd3f",
   "metadata": {},
   "outputs": [
    {
     "name": "stdout",
     "output_type": "stream",
     "text": [
      "[[11 12 13]\n",
      " [14 15 16]\n",
      " [11 12 13]\n",
      " [14 15 16]\n",
      " [11 12 13]\n",
      " [14 15 16]]\n"
     ]
    }
   ],
   "source": [
    "another_joined_array = np.concatenate((joined_array_1, arrA))\n",
    "print(another_joined_array)"
   ]
  },
  {
   "cell_type": "code",
   "execution_count": 27,
   "id": "d68ffcde-5011-4ff8-aa03-e127da361cf9",
   "metadata": {},
   "outputs": [
    {
     "ename": "ValueError",
     "evalue": "all the input array dimensions except for the concatenation axis must match exactly, but along dimension 0, the array at index 0 has size 4 and the array at index 1 has size 2",
     "output_type": "error",
     "traceback": [
      "\u001b[1;31m---------------------------------------------------------------------------\u001b[0m",
      "\u001b[1;31mValueError\u001b[0m                                Traceback (most recent call last)",
      "Cell \u001b[1;32mIn[27], line 1\u001b[0m\n\u001b[1;32m----> 1\u001b[0m another_2 \u001b[38;5;241m=\u001b[39m \u001b[43mnp\u001b[49m\u001b[38;5;241;43m.\u001b[39;49m\u001b[43mconcatenate\u001b[49m\u001b[43m(\u001b[49m\u001b[43m(\u001b[49m\u001b[43mjoined_array_1\u001b[49m\u001b[43m,\u001b[49m\u001b[43m \u001b[49m\u001b[43marrA\u001b[49m\u001b[43m)\u001b[49m\u001b[43m,\u001b[49m\u001b[43m \u001b[49m\u001b[43maxis\u001b[49m\u001b[38;5;241;43m=\u001b[39;49m\u001b[38;5;241;43m1\u001b[39;49m\u001b[43m)\u001b[49m\n\u001b[0;32m      2\u001b[0m \u001b[38;5;28mprint\u001b[39m(another_2)\n",
      "\u001b[1;31mValueError\u001b[0m: all the input array dimensions except for the concatenation axis must match exactly, but along dimension 0, the array at index 0 has size 4 and the array at index 1 has size 2"
     ]
    }
   ],
   "source": [
    "another_2 = np.concatenate((joined_array_1, arrA), axis=1) \n",
    "print(another_2) # I think it does not concatenate b/c it does n't have the same number of raws"
   ]
  },
  {
   "cell_type": "code",
   "execution_count": null,
   "id": "8b721058-44cc-4c3f-aecd-3eb25fdc4078",
   "metadata": {},
   "outputs": [],
   "source": []
  }
 ],
 "metadata": {
  "kernelspec": {
   "display_name": "Python 3 (ipykernel)",
   "language": "python",
   "name": "python3"
  },
  "language_info": {
   "codemirror_mode": {
    "name": "ipython",
    "version": 3
   },
   "file_extension": ".py",
   "mimetype": "text/x-python",
   "name": "python",
   "nbconvert_exporter": "python",
   "pygments_lexer": "ipython3",
   "version": "3.12.6"
  }
 },
 "nbformat": 4,
 "nbformat_minor": 5
}
