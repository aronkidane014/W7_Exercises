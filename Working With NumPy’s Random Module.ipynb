{
 "cells": [
  {
   "cell_type": "code",
   "execution_count": 2,
   "id": "7667e821-808d-4224-a9d0-d44566051d6f",
   "metadata": {},
   "outputs": [],
   "source": [
    "import numpy as np"
   ]
  },
  {
   "cell_type": "markdown",
   "id": "da83e2c3-17c7-497d-8501-0426590ecd94",
   "metadata": {},
   "source": [
    "### Generating Random Numbers"
   ]
  },
  {
   "cell_type": "code",
   "execution_count": 3,
   "id": "48bc7061-5a36-48ff-95c5-e18e03c83cf8",
   "metadata": {},
   "outputs": [
    {
     "name": "stdout",
     "output_type": "stream",
     "text": [
      "[ 3 20]\n"
     ]
    }
   ],
   "source": [
    "r_1 = np.random.randint(1,21, size=2)\n",
    "print(r_1)"
   ]
  },
  {
   "cell_type": "code",
   "execution_count": 4,
   "id": "b4a022ef-eeb6-401a-b628-b548736a3cef",
   "metadata": {},
   "outputs": [
    {
     "name": "stdout",
     "output_type": "stream",
     "text": [
      "[[11  4]]\n"
     ]
    }
   ],
   "source": [
    "r_2 = np.random.randint(1, 21, size=(1,2))\n",
    "print(r_2)"
   ]
  },
  {
   "cell_type": "code",
   "execution_count": 6,
   "id": "1f380390-04f6-47c9-aff0-fa93811d245d",
   "metadata": {},
   "outputs": [
    {
     "name": "stdout",
     "output_type": "stream",
     "text": [
      "[[0.23638988]\n",
      " [0.4566023 ]]\n"
     ]
    }
   ],
   "source": [
    "r_3 = np.random.rand(2, 1)\n",
    "print(r_3)"
   ]
  },
  {
   "cell_type": "code",
   "execution_count": 9,
   "id": "629c2edc-8221-472f-a814-bb515330fdfb",
   "metadata": {},
   "outputs": [
    {
     "name": "stdout",
     "output_type": "stream",
     "text": [
      "[[48 21 98 89 50]\n",
      " [20 95 63 62 36]\n",
      " [69 39 35 53 76]\n",
      " [75 78 89 95 72]]\n"
     ]
    }
   ],
   "source": [
    "r_4 = np.random.randint(20, 100, size=(4,5))\n",
    "print(r_4)"
   ]
  },
  {
   "cell_type": "code",
   "execution_count": 11,
   "id": "8bf58fa2-aa1b-4117-8523-85fec3b49478",
   "metadata": {},
   "outputs": [
    {
     "name": "stdout",
     "output_type": "stream",
     "text": [
      "[[0.91121505 0.91081853 0.12659748 0.66528387 0.15766733]\n",
      " [0.56308011 0.8244212  0.53263694 0.70942001 0.82440461]\n",
      " [0.73467118 0.51183844 0.77158328 0.59679553 0.52641012]\n",
      " [0.50806038 0.0733324  0.55849668 0.17982227 0.57420231]]\n"
     ]
    }
   ],
   "source": [
    "r_5 = np.random.rand(4, 5)\n",
    "print(r_5)"
   ]
  },
  {
   "cell_type": "markdown",
   "id": "17e67c39-45c1-4e90-b4c7-e4011409a65f",
   "metadata": {},
   "source": [
    "### Generating Random Choices from an Array"
   ]
  },
  {
   "cell_type": "code",
   "execution_count": 21,
   "id": "4897d08f-ad41-4915-a601-5d2152241e7a",
   "metadata": {},
   "outputs": [
    {
     "name": "stdout",
     "output_type": "stream",
     "text": [
      "['Fadil Ashiru' 'Jacob Ridges' 'Jennifer Santos' 'Jaela J' 'Kailyn Mabon'\n",
      " 'Martin Reyes' 'Mohammad Hadi' 'Rodolfo Lopez' 'Symone Gant'\n",
      " 'Syed Hassan' 'Vanessa Guerrero' 'Zainab Haseeba']\n"
     ]
    }
   ],
   "source": [
    "students = np.array([ \"Fadil Ashiru\", \"Jacob Ridges\",\"Jennifer Santos\", \"Jaela J\", \"Kailyn Mabon\", \"Martin Reyes\", \"Mohammad Hadi\",\n",
    "                     \"Rodolfo Lopez\", \"Symone Gant\",\n",
    "                     \"Syed Hassan\", \"Vanessa Guerrero\", \"Zainab Haseeba\"])\n",
    "print(students)"
   ]
  },
  {
   "cell_type": "code",
   "execution_count": 22,
   "id": "20b6bd3f-6277-4ee1-b6a0-02f8dd880619",
   "metadata": {},
   "outputs": [
    {
     "name": "stdout",
     "output_type": "stream",
     "text": [
      "12\n"
     ]
    }
   ],
   "source": [
    "students_number= len(students)\n",
    "print(students_number)"
   ]
  },
  {
   "cell_type": "code",
   "execution_count": 18,
   "id": "e5fc336b-940a-45d7-bd9f-538596f9024f",
   "metadata": {},
   "outputs": [
    {
     "name": "stdout",
     "output_type": "stream",
     "text": [
      "Martin Reyes\n"
     ]
    }
   ],
   "source": [
    "call_on = np.random.choice(students)\n",
    "print(call_on)"
   ]
  },
  {
   "cell_type": "code",
   "execution_count": 32,
   "id": "12c3f733-7f92-4fd9-971f-01b2f8598dc7",
   "metadata": {
    "scrolled": true
   },
   "outputs": [
    {
     "name": "stdout",
     "output_type": "stream",
     "text": [
      "[['Zainab Haseeba' 'Symone Gant' 'Rodolfo Lopez' 'Jacob Ridges']\n",
      " ['Mohammad Hadi' 'Jaela J' 'Jennifer Santos' 'Syed Hassan']\n",
      " ['Vanessa Guerrero' 'Fadil Ashiru' 'Kailyn Mabon' 'Martin Reyes']]\n"
     ]
    }
   ],
   "source": [
    "breakout_groups = np.random.choice(students,(3,4), replace=False)\n",
    "print(breakout_groups)\n",
    "# This method effectively creates random groups of equal size, which is useful for quick assignments. However,\n",
    "# it might not always result in balanced groups in terms of skill level."
   ]
  },
  {
   "cell_type": "code",
   "execution_count": 36,
   "id": "0a576e15-f27c-4293-ad90-cae475c47b67",
   "metadata": {},
   "outputs": [
    {
     "name": "stdout",
     "output_type": "stream",
     "text": [
      "1.0\n"
     ]
    }
   ],
   "source": [
    "probabilities = [0.1, 0.05, 0.1, 0.3, 0.0, 0.05, 0.1, 0.05, 0.1, 0.05, 0.05, 0.05]\n",
    "print(sum(probabilities))\n"
   ]
  },
  {
   "cell_type": "code",
   "execution_count": 37,
   "id": "de135a7e-5b67-44ec-97e4-5c67883b2990",
   "metadata": {},
   "outputs": [
    {
     "name": "stdout",
     "output_type": "stream",
     "text": [
      "['Syed Hassan' 'Symone Gant' 'Fadil Ashiru' 'Vanessa Guerrero'\n",
      " 'Jennifer Santos']\n"
     ]
    }
   ],
   "source": [
    "call_on_weighted = np.random.choice(students, size=5, p=probabilities, replace=True)\n",
    "print (call_on_weighted)"
   ]
  },
  {
   "cell_type": "markdown",
   "id": "d7766762-067e-4019-b5b8-d216002e11eb",
   "metadata": {},
   "source": [
    "### Generating a Normal Distribution"
   ]
  },
  {
   "cell_type": "code",
   "execution_count": 38,
   "id": "84fa2be6-f62d-4c7e-a583-b6ac61a28c7d",
   "metadata": {},
   "outputs": [
    {
     "name": "stdout",
     "output_type": "stream",
     "text": [
      "[[14.27583063  6.7653942   9.15192623 15.88575734 17.93492582]\n",
      " [19.48857136  6.42094443 13.22893605 -2.39568022  4.00829845]\n",
      " [ 6.83076251  5.00582436 13.0060611   5.40778517  8.67709758]\n",
      " [ 9.14307954  3.11990311  3.47259072 10.00502096  7.96699083]]\n"
     ]
    }
   ],
   "source": [
    "bell_curve = np.random.normal(loc=10, scale=5, size=(4, 5))\n",
    "print(bell_curve)"
   ]
  },
  {
   "cell_type": "code",
   "execution_count": null,
   "id": "5efb2630-fad1-4b91-bed4-c1e2e362a99b",
   "metadata": {},
   "outputs": [],
   "source": []
  }
 ],
 "metadata": {
  "kernelspec": {
   "display_name": "Python 3 (ipykernel)",
   "language": "python",
   "name": "python3"
  },
  "language_info": {
   "codemirror_mode": {
    "name": "ipython",
    "version": 3
   },
   "file_extension": ".py",
   "mimetype": "text/x-python",
   "name": "python",
   "nbconvert_exporter": "python",
   "pygments_lexer": "ipython3",
   "version": "3.12.6"
  }
 },
 "nbformat": 4,
 "nbformat_minor": 5
}
